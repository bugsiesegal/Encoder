{
 "cells": [
  {
   "cell_type": "code",
   "execution_count": 1,
   "metadata": {},
   "outputs": [],
   "source": [
    "import keras\n",
    "from keras.layers import *\n",
    "import numpy as np\n",
    "import xml.etree.ElementTree as ET\n",
    "import glob\n",
    "from bs4 import BeautifulSoup\n",
    "import os"
   ]
  },
  {
   "cell_type": "code",
   "execution_count": 2,
   "metadata": {},
   "outputs": [
    {
     "name": "stdout",
     "output_type": "stream",
     "text": [
      "Model: \"encoder\"\n",
      "_________________________________________________________________\n",
      "Layer (type)                 Output Shape              Param #   \n",
      "=================================================================\n",
      "input_1 (InputLayer)         [(None, 1)]               0         \n",
      "_________________________________________________________________\n",
      "dense (Dense)                (None, 2048)              4096      \n",
      "_________________________________________________________________\n",
      "reshape (Reshape)            (None, 2, 1024)           0         \n",
      "_________________________________________________________________\n",
      "conv1d (Conv1D)              (None, 1, 1024)           2098176   \n",
      "_________________________________________________________________\n",
      "conv1d_1 (Conv1D)            (None, 1, 1024)           1049600   \n",
      "=================================================================\n",
      "Total params: 3,151,872\n",
      "Trainable params: 3,151,872\n",
      "Non-trainable params: 0\n",
      "_________________________________________________________________\n",
      "Model: \"decoder\"\n",
      "_________________________________________________________________\n",
      "Layer (type)                 Output Shape              Param #   \n",
      "=================================================================\n",
      "input_2 (InputLayer)         [(None, 1, 1024)]         0         \n",
      "_________________________________________________________________\n",
      "conv1d_2 (Conv1D)            (None, 1, 1024)           1049600   \n",
      "_________________________________________________________________\n",
      "conv1d_3 (Conv1D)            (None, 1, 2048)           2099200   \n",
      "_________________________________________________________________\n",
      "flatten (Flatten)            (None, 2048)              0         \n",
      "_________________________________________________________________\n",
      "dense_1 (Dense)              (None, 1)                 2049      \n",
      "=================================================================\n",
      "Total params: 3,150,849\n",
      "Trainable params: 3,150,849\n",
      "Non-trainable params: 0\n",
      "_________________________________________________________________\n",
      "Model: \"autoencoder\"\n",
      "_________________________________________________________________\n",
      "Layer (type)                 Output Shape              Param #   \n",
      "=================================================================\n",
      "input_3 (InputLayer)         [(None, 1)]               0         \n",
      "_________________________________________________________________\n",
      "encoder (Functional)         (None, 1, 1024)           3151872   \n",
      "_________________________________________________________________\n",
      "decoder (Functional)         (None, 1)                 3150849   \n",
      "=================================================================\n",
      "Total params: 6,302,721\n",
      "Trainable params: 6,302,721\n",
      "Non-trainable params: 0\n",
      "_________________________________________________________________\n"
     ]
    }
   ],
   "source": [
    "encinput = keras.Input((1))\n",
    "x = Dense(2048, activation=\"relu\")(encinput)\n",
    "x = Reshape((2, 1024))(x)\n",
    "x = Conv1D(1024, 2, activation=\"relu\")(x)\n",
    "encoutput = Conv1D(1024,1, activation=\"relu\")(x)\n",
    "\n",
    "encoder = keras.Model(encinput, encoutput, name=\"encoder\")\n",
    "encoder.summary()\n",
    "\n",
    "decinput = keras.Input((1, 1024))\n",
    "x = Conv1D(1024,1, activation=\"relu\")(decinput)\n",
    "x = Conv1D(2048,1, activation=\"relu\")(x)\n",
    "x = Flatten()(x)\n",
    "decoutput = Dense(1, activation=\"relu\")(x)\n",
    "\n",
    "decoder = keras.Model(decinput, decoutput, name=\"decoder\")\n",
    "decoder.summary()\n",
    "\n",
    "autoencoder_input = keras.Input((1))\n",
    "autoencoder_encoder = encoder(autoencoder_input)\n",
    "autoencoder_decoder = decoder(autoencoder_encoder)\n",
    "\n",
    "autoencoder = keras.Model(autoencoder_input, autoencoder_decoder, name=\"autoencoder\")\n",
    "autoencoder.summary()\n",
    "\n",
    "autoencoder.compile(optimizer='adam', loss='accuracy')"
   ]
  },
  {
   "cell_type": "code",
   "execution_count": 12,
   "metadata": {
    "scrolled": true
   },
   "outputs": [],
   "source": [
    "def chunks(lst, n):\n",
    "    \"\"\"Yield successive n-sized chunks from lst.\"\"\"\n",
    "    for i in range(0, len(lst), n):\n",
    "        yield lst[i:i + n]\n",
    "\n",
    "data = []\n",
    "\n",
    "for f in glob.glob(os.getcwd() + \"/data/*.xml\"):\n",
    "    with open(f, errors='ignore') as fp:\n",
    "        soup = BeautifulSoup(fp, 'xml')\n",
    "        pageText = soup.findAll(text=True)\n",
    "        pageText = \"\".join(pageText)\n",
    "        pageText = chunks(pageText, 200)\n",
    "        for i in pageText:\n",
    "            data.append(i)"
   ]
  },
  {
   "cell_type": "code",
   "execution_count": null,
   "metadata": {},
   "outputs": [],
   "source": []
  },
  {
   "cell_type": "code",
   "execution_count": 13,
   "metadata": {},
   "outputs": [],
   "source": [
    "datachr = []\n",
    "for i in data:\n",
    "    row = []\n",
    "    zeros = np.zeros((200))\n",
    "    for j in i:\n",
    "        row.append(ord(j))\n",
    "    row = np.asarray(row).astype('float32').T\n",
    "    zeros[:row.shape[0]] = row\n",
    "    datachr.append(zeros)"
   ]
  },
  {
   "cell_type": "code",
   "execution_count": 14,
   "metadata": {},
   "outputs": [
    {
     "data": {
      "text/plain": [
       "200"
      ]
     },
     "execution_count": 14,
     "metadata": {},
     "output_type": "execute_result"
    }
   ],
   "source": [
    "sizes = []\n",
    "for i in datachr:\n",
    "    sizes.append(i.shape[0])\n",
    "max(sizes)"
   ]
  },
  {
   "cell_type": "code",
   "execution_count": null,
   "metadata": {},
   "outputs": [],
   "source": [
    "autoencoder.fit(datachr, datachr, epochs=1)"
   ]
  },
  {
   "cell_type": "code",
   "execution_count": null,
   "metadata": {},
   "outputs": [],
   "source": []
  },
  {
   "cell_type": "code",
   "execution_count": null,
   "metadata": {},
   "outputs": [],
   "source": []
  }
 ],
 "metadata": {
  "kernelspec": {
   "display_name": "Python 3",
   "language": "python",
   "name": "python3"
  },
  "varInspector": {
   "cols": {
    "lenName": 16,
    "lenType": 16,
    "lenVar": 40
   },
   "kernels_config": {
    "python": {
     "delete_cmd_postfix": "",
     "delete_cmd_prefix": "del ",
     "library": "var_list.py",
     "varRefreshCmd": "print(var_dic_list())"
    },
    "r": {
     "delete_cmd_postfix": ") ",
     "delete_cmd_prefix": "rm(",
     "library": "var_list.r",
     "varRefreshCmd": "cat(var_dic_list()) "
    }
   },
   "position": {
    "height": "767px",
    "left": "1538px",
    "right": "20px",
    "top": "120px",
    "width": "362px"
   },
   "types_to_exclude": [
    "module",
    "function",
    "builtin_function_or_method",
    "instance",
    "_Feature"
   ],
   "window_display": true
  }
 },
 "nbformat": 4,
 "nbformat_minor": 4
}
